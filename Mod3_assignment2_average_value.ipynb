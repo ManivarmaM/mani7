{
 "cells": [
  {
   "cell_type": "code",
   "execution_count": 2,
   "metadata": {},
   "outputs": [
    {
     "name": "stdout",
     "output_type": "stream",
     "text": [
      "enter number: 4\n",
      "enter number: 3\n",
      "enter number: 5\n",
      "enter number: 3\n",
      "enter number: 7\n",
      "enter number: 8\n",
      "enter number: 7\n",
      "enter number: 9\n",
      "enter number: 4\n",
      "enter number: 3\n",
      "Average of numbers is : 5.3\n"
     ]
    }
   ],
   "source": [
    "total_sum=0\n",
    "for n in range(10):\n",
    "        numbers=int(input('enter number: '))  \n",
    "        total_sum += numbers\n",
    "avg=total_sum/10\n",
    "print('Average of numbers is :',avg)\n"
   ]
  },
  {
   "cell_type": "code",
   "execution_count": null,
   "metadata": {},
   "outputs": [],
   "source": []
  }
 ],
 "metadata": {
  "kernelspec": {
   "display_name": "Python 3",
   "language": "python",
   "name": "python3"
  },
  "language_info": {
   "codemirror_mode": {
    "name": "ipython",
    "version": 3
   },
   "file_extension": ".py",
   "mimetype": "text/x-python",
   "name": "python",
   "nbconvert_exporter": "python",
   "pygments_lexer": "ipython3",
   "version": "3.8.3"
  }
 },
 "nbformat": 4,
 "nbformat_minor": 4
}
